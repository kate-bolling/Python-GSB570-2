{
 "cells": [
  {
   "cell_type": "markdown",
   "metadata": {},
   "source": [
    "# Lab 1: Part A\n",
    "### General Guidelines:\n",
    "\n",
    "For Part A of the lab, you will be asked to perform a few specific calculations or manipulations on the data, similar to the exercises at the end of the practice workbooks.  These tasks all have a single correct answer.  You will be graded on the correctness of your code and answer.\n",
    "\n",
    "### Submission:\n",
    "\n",
    "Please turn in a static document, i.e., an html or pdf file.  Do not turn in your Jupyter or R Markdown notebook.\n",
    "Please make sure that your source code (i.e., the code chunks) and output (the results or plots) are both visible.\n",
    "You do not need to include any discussion or description of your work, unless specifically asked to.\n",
    "You do not need to make this document presentable or polished, as long as it is readable by me.  For example, a screen print of a Jupyter notebook would be fine for this part of the lab.\n",
    "You may work collaboratively on this, in the sense that you are welcome to discuss strategies and ideas, and compare answers.  However, do not directly copy code or send/share notebooks; your work should all be your own.\n",
    "\n",
    "### Assignment:\n",
    "\n",
    "Using the okcupid.csv dataset from the Colab exercises, do the following:\n",
    "\n",
    "1.  What is the distribution of reported sexual orientation of users in this dataset?\n",
    "\n",
    "2.  Within each reported sexual orientation category, what is the distribution of reported gender?\n",
    "\n",
    "3.  Within each reported gender, what is the distribution of sexual orientation?\n",
    "\n",
    "4.  Of your answers to (2) and (3), which do you think is the more informative calculation?  Why?\n",
    "\n",
    "5.  Make a visualization of the distribution of drinking status.\n",
    "\n",
    "6.  Create a new variable that indicates whether the user has, likes, or dislikes cats. Visualize the distribution of this variable.\n",
    "\n",
    "7.  If you were a heterosexual female interested in dating a non-smoker, how many options would you have in this data set?"
   ]
  },
  {
   "cell_type": "code",
   "execution_count": 108,
   "metadata": {},
   "outputs": [],
   "source": [
    "#loading the data and packages\n",
    "import pandas as pd\n",
    "import numpy as np\n",
    "import matplotlib.pyplot as plt\n",
    "\n",
    "data_dir = \"https://dlsun.github.io/pods/data/\"\n",
    "df_okcupid = pd.read_csv(data_dir + \"okcupid.csv\")"
   ]
  },
  {
   "cell_type": "code",
   "execution_count": 109,
   "metadata": {},
   "outputs": [
    {
     "data": {
      "text/plain": [
       "Text(0.5, 1.0, 'OkCupid Sexual Orientation Counts')"
      ]
     },
     "execution_count": 109,
     "metadata": {},
     "output_type": "execute_result"
    },
    {
     "data": {
      "image/png": "[encoded data removed]",
      "text/plain": [
       "<Figure size 432x288 with 1 Axes>"
      ]
     },
     "metadata": {
      "needs_background": "light"
     },
     "output_type": "display_data"
    }
   ],
   "source": [
    "#1.  What is the distribution of reported sexual orientation of users in this dataset?\n",
    "orientation_counts = df_okcupid[\"orientation\"].value_counts()\n",
    "orientations=pd.unique(df_okcupid.orientation)\n",
    "plt.bar(orientations, orientation_counts, color=\"pink\")\n",
    "plt.xlabel(\"Sexual Orientation\")\n",
    "plt.ylabel(\"Count\")\n",
    "plt.title(\"OkCupid Sexual Orientation Counts\")"
   ]
  },
  {
   "cell_type": "code",
   "execution_count": 113,
   "metadata": {},
   "outputs": [
    {
     "name": "stdout",
     "output_type": "stream",
     "text": [
      "gay males: 191 - gay females: 72\n",
      "proportion of gay males: 0.7262\n",
      "straight males: 1560 - straight females: 1035\n",
      "proportion of straight males: 0.6012\n",
      "bisexual males: 37 - bisexual females: 105\n",
      "proportion of bisexual males: 0.2606\n"
     ]
    }
   ],
   "source": [
    "#2.  Within each reported sexual orientation category, what is the distribution of reported gender?\n",
    "orientation_gay_male = len(df_okcupid[(df_okcupid[\"sex\"] == \"m\") & (df_okcupid[\"orientation\"] == \"gay\")])\n",
    "orientation_gay_female = len(df_okcupid[(df_okcupid[\"sex\"] == \"f\") & (df_okcupid[\"orientation\"] == \"gay\")])\n",
    "\n",
    "orientation_straight_male = len(df_okcupid[(df_okcupid[\"sex\"] == \"m\") & (df_okcupid[\"orientation\"] == \"straight\")])\n",
    "orientation_straight_female = len(df_okcupid[(df_okcupid[\"sex\"] == \"f\") & (df_okcupid[\"orientation\"] == \"straight\")])\n",
    "\n",
    "orientation_bisexual_male = len(df_okcupid[(df_okcupid[\"sex\"] == \"m\") & (df_okcupid[\"orientation\"] == \"bisexual\")])\n",
    "orientation_bisexual_female = len(df_okcupid[(df_okcupid[\"sex\"] == \"f\") & (df_okcupid[\"orientation\"] == \"bisexual\")])\n",
    "\n",
    "proportion_gay=orientation_gay_male/(orientation_gay_female+orientation_gay_male)\n",
    "print(\"gay males:\", orientation_gay_male,\"- gay females:\", orientation_gay_female)\n",
    "print(\"proportion of gay males:\",round(proportion_gay,4))\n",
    "\n",
    "proportion_straight=orientation_straight_male/(orientation_straight_female+orientation_straight_male)\n",
    "print(\"straight males:\", orientation_straight_male,\"- straight females:\", orientation_straight_female)\n",
    "print(\"proportion of straight males:\",round(proportion_straight,4))\n",
    "\n",
    "proportion_bisexual=orientation_bisexual_male/(orientation_bisexual_female+orientation_bisexual_male)\n",
    "print(\"bisexual males:\", orientation_bisexual_male,\"- bisexual females:\", orientation_bisexual_female)\n",
    "print(\"proportion of bisexual males:\",round(proportion_bisexual,4))"
   ]
  },
  {
   "cell_type": "code",
   "execution_count": 82,
   "metadata": {
    "scrolled": true
   },
   "outputs": [
    {
     "name": "stdout",
     "output_type": "stream",
     "text": [
      "male sexual orientation breakdown: \n",
      " straight    0.872483\n",
      "gay         0.106823\n",
      "bisexual    0.020694\n",
      "Name: orientation, dtype: float64\n",
      "female sexual orientation breakdown: \n",
      " straight    0.853960\n",
      "bisexual    0.086634\n",
      "gay         0.059406\n",
      "Name: orientation, dtype: float64\n"
     ]
    }
   ],
   "source": [
    "#3.  Within each reported gender, what is the distribution of sexual orientation?\n",
    "males = df_okcupid[(df_okcupid[\"sex\"] == \"m\")]\n",
    "females = df_okcupid[(df_okcupid[\"sex\"] == \"f\")]\n",
    "male_orientations=males[\"orientation\"].value_counts(normalize=True);\n",
    "print(\"male sexual orientation breakdown:\\n\",male_orientations)\n",
    "female_orientations=females[\"orientation\"].value_counts(normalize=True);\n",
    "print(\"female sexual orientation breakdown:\\n\",female_orientations)\n"
   ]
  },
  {
   "cell_type": "markdown",
   "metadata": {},
   "source": [
    "4.  Of your answers to (2) and (3), which do you think is the more informative calculation?  Why?\n",
    "I think it is more infomrative to know question 3, or what the males sexual oreintation breakdown is. This is important because if I'm straight, 82% of males are also straight, but if I look at straight people, only 62% are males. They show differnet information, and given that this is a dating site, it would be more imporant to see your prefered partner gender, then their sexual orientation than the orientation then down to gender."
   ]
  },
  {
   "cell_type": "code",
   "execution_count": 114,
   "metadata": {
    "scrolled": true
   },
   "outputs": [
    {
     "name": "stdout",
     "output_type": "stream",
     "text": [
      "socially       2056\n",
      "rarely          301\n",
      "often           287\n",
      "not at all      164\n",
      "very often       28\n",
      "desperately      13\n",
      "Name: drinks, dtype: int64\n"
     ]
    },
    {
     "data": {
      "image/png": "[encoded data removed]",
      "text/plain": [
       "<Figure size 432x288 with 1 Axes>"
      ]
     },
     "metadata": {
      "needs_background": "light"
     },
     "output_type": "display_data"
    }
   ],
   "source": [
    "#5.  Make a visualization of the distribution of drinking status.\n",
    "drink_counts = df_okcupid[\"drinks\"].value_counts();\n",
    "\n",
    "drink_counts.plot.bar(color=\"purple\", xlabel=\"Drinking Status\", ylabel=\"Counts\", title=\"Drinking Status Distribution\")\n",
    "print(drink_counts)"
   ]
  },
  {
   "cell_type": "code",
   "execution_count": 112,
   "metadata": {},
   "outputs": [
    {
     "data": {
      "text/plain": [
       "<AxesSubplot:title={'center':'Feelings Towards Cats as Pets Distribution'}, xlabel='Feelings towards cats', ylabel='Counts'>"
      ]
     },
     "execution_count": 112,
     "metadata": {},
     "output_type": "execute_result"
    },
    {
     "data": {
      "image/png": "[encoded data removed]",
      "text/plain": [
       "<Figure size 432x288 with 1 Axes>"
      ]
     },
     "metadata": {
      "needs_background": "light"
     },
     "output_type": "display_data"
    }
   ],
   "source": [
    "#6.  Create a new variable that indicates whether the user has, likes, or dislikes cats. \n",
    "# Visualize the distribution of this variable.\n",
    "\n",
    "df_okcupid[\"cats\"]=df_okcupid[\"pets\"].map({\n",
    "    \"likes dogs and has cats\":\"has cats\",\n",
    "    \"dislikes dogs and has cats\":\"has cats\",\n",
    "    \"has dogs and has cats\":\"has cats\",\n",
    "    \"has dogs and likes cats\":\"likes cats\",\n",
    "    \"likes cats\":\"likes cats\",\n",
    "    \"likes dogs and likes cats\":\"likes cats\",\n",
    "    \"likes dogs and dislikes cats\":\"dislikes cats\",\n",
    "    \"dislikes dogs and dislikes cats\":\"dislikes cats\",\n",
    "    \"has dogs and dislikes cats\":\"dislikes cats\"\n",
    "});\n",
    "\n",
    "cat_counts = df_okcupid[\"cats\"].value_counts()\n",
    "cat_counts.plot.bar(color=\"orange\", xlabel=\"Feelings towards cats\", ylabel=\"Counts\", title=\"Feelings Towards Cats as Pets Distribution\")\n"
   ]
  },
  {
   "cell_type": "code",
   "execution_count": 70,
   "metadata": {},
   "outputs": [
    {
     "name": "stdout",
     "output_type": "stream",
     "text": [
      "I would have 1107 options.\n"
     ]
    }
   ],
   "source": [
    "#7.  If you were a heterosexual female interested in dating a non-smoker, how many options would you have in this data set?\n",
    "options=len(df_okcupid[(df_okcupid[\"sex\"] == \"m\") & (df_okcupid[\"orientation\"] == \"straight\") & (df_okcupid[\"smokes\"] == \"no\")])\n",
    "print(\"I would have\", options,\"options.\")\n"
   ]
  }
 ],
 "metadata": {
  "kernelspec": {
   "display_name": "Python 3",
   "language": "python",
   "name": "python3"
  },
  "language_info": {
   "codemirror_mode": {
    "name": "ipython",
    "version": 3
   },
   "file_extension": ".py",
   "mimetype": "text/x-python",
   "name": "python",
   "nbconvert_exporter": "python",
   "pygments_lexer": "ipython3",
   "version": "3.8.5"
  }
 },
 "nbformat": 4,
 "nbformat_minor": 4
}
